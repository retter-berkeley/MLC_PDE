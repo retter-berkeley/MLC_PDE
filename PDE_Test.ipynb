{
 "cells": [
  {
   "cell_type": "code",
   "execution_count": 3,
   "id": "ab808bff-3d4e-4843-8092-c28764ad25bf",
   "metadata": {},
   "outputs": [
    {
     "name": "stdout",
     "output_type": "stream",
     "text": [
      "[ 0.          0.84147098  0.90929743  0.14112001 -0.7568025  -0.95892427\n",
      " -0.2794155   0.6569866   0.98935825  0.41211849 -0.54402111 -0.99999021\n",
      " -0.53657292  0.42016704  0.99060736  0.65028784  0.          0.\n",
      "  0.          0.          0.          0.          0.          0.\n",
      "  0.          0.          0.          0.          0.          0.\n",
      "  0.          0.          0.83422336 -0.01327675 -0.84857027 -0.90369221\n",
      " -0.12796369  0.76541405  0.95507364  0.26664293 -0.66693806 -0.98733928\n",
      " -0.39998531  0.5551133   0.99984331  0.52532199 -0.43217794 -0.99233547\n",
      "  0.          0.          0.          0.          0.          0.\n",
      "  0.          0.          0.          0.          0.          0.\n",
      "  0.          0.          0.          0.        ]\n",
      "0.9998433086476912\n"
     ]
    }
   ],
   "source": [
    "import pde\n",
    "import numpy as np\n",
    "import time\n",
    "#required conda install -c conda-forge mpi4py      \n",
    "#required conda install -c conda-forge py-pde\n",
    "\n",
    "from pde import DiffusionPDE, ScalarField, UnitGrid, CartesianGrid\n",
    "\n",
    "def test(y,z):\n",
    "    return z[1]*np.sin(z[0]*y)\n",
    "def test2(value, dx, x, y, t):\n",
    "    z=[1,2,3]\n",
    "    #z=test(y,z)\n",
    "    i=0\n",
    "    z=np.empty(64)\n",
    "    for a in y:\n",
    "        if a<16: z[i]=np.sin(a)\n",
    "        elif a<32:  z[i]=0\n",
    "        elif a<48:  z[i]=np.cos(a)\n",
    "        else: z[i]=0\n",
    "        i+=1\n",
    "    #z=z*np.heaviside(y-28,1)\n",
    "    #z=z*np.heaviside(-1*(y-32),1)\n",
    "    return z\n",
    "y=np.linspace(0,63,64);\n",
    "zz=np.empty(64)\n",
    "i=0\n",
    "for a in y:\n",
    "    if a<16: zz[i]=np.sin(a)\n",
    "    elif a<32:  zz[i]=0\n",
    "    elif a<48:  zz[i]=np.cos(a)\n",
    "    else: zz[i]=0\n",
    "    i+=1\n",
    "print(zz)\n",
    "print(np.max(zz))"
   ]
  },
  {
   "cell_type": "code",
   "execution_count": 16,
   "id": "d1ca897e-89b0-4c57-9d1a-17bd712db20a",
   "metadata": {},
   "outputs": [],
   "source": [
    "class controller:\n",
    "    def __init__(self, grid, state):\n",
    "        self.grid=grid\n",
    "        self.state=state\n",
    "        self.control=[]"
   ]
  },
  {
   "cell_type": "code",
   "execution_count": 12,
   "id": "8d2277ff-1dac-40d6-b459-89b17b9425eb",
   "metadata": {},
   "outputs": [
    {
     "ename": "TypeError",
     "evalue": "controller.__init__() missing 1 required positional argument: 'num_sens'",
     "output_type": "error",
     "traceback": [
      "\u001b[1;31m---------------------------------------------------------------------------\u001b[0m",
      "\u001b[1;31mTypeError\u001b[0m                                 Traceback (most recent call last)",
      "Cell \u001b[1;32mIn[12], line 5\u001b[0m\n\u001b[0;32m      2\u001b[0m grid \u001b[38;5;241m=\u001b[39m CartesianGrid([[\u001b[38;5;241m0\u001b[39m, \u001b[38;5;241m2\u001b[39m \u001b[38;5;241m*\u001b[39m np\u001b[38;5;241m.\u001b[39mpi]] \u001b[38;5;241m*\u001b[39m \u001b[38;5;241m2\u001b[39m, \u001b[38;5;241m64\u001b[39m)\n\u001b[0;32m      3\u001b[0m state \u001b[38;5;241m=\u001b[39m ScalarField\u001b[38;5;241m.\u001b[39mrandom_uniform(grid, \u001b[38;5;241m0.2\u001b[39m, \u001b[38;5;241m0.3\u001b[39m) \u001b[38;5;66;03m# generate initial condition\u001b[39;00m\n\u001b[1;32m----> 5\u001b[0m trial\u001b[38;5;241m=\u001b[39mcontroller(grid,state)\n\u001b[0;32m      6\u001b[0m trial\u001b[38;5;241m.\u001b[39mcontrol\u001b[38;5;241m=\u001b[39mtest2\n",
      "\u001b[1;31mTypeError\u001b[0m: controller.__init__() missing 1 required positional argument: 'num_sens'"
     ]
    }
   ],
   "source": [
    "#grid = UnitGrid([64, 64], periodic=[False, True]) # generate grid\n",
    "\n",
    "state = ScalarField.random_uniform(grid, 0.2, 0.3) # generate initial condition\n",
    "\n",
    "trial=controller(grid,state)\n",
    "trial.control=test2"
   ]
  },
  {
   "cell_type": "code",
   "execution_count": 18,
   "id": "c39147c3-b827-4b16-8ee4-bad15434312b",
   "metadata": {},
   "outputs": [
    {
     "data": {
      "application/vnd.jupyter.widget-view+json": {
       "model_id": "d220b5a1f2874b77a407a760ca449f33",
       "version_major": 2,
       "version_minor": 0
      },
      "text/plain": [
       "  0%|          | 0/1.0 [00:02<?, ?it/s]"
      ]
     },
     "metadata": {},
     "output_type": "display_data"
    },
    {
     "data": {
      "image/png": "[encoded data removed]",
      "text/plain": [
       "<Figure size 640x480 with 2 Axes>"
      ]
     },
     "metadata": {},
     "output_type": "display_data"
    },
    {
     "data": {
      "text/plain": [
       "<pde.tools.plotting.PlotReference at 0x1fc75aad740>"
      ]
     },
     "execution_count": 18,
     "metadata": {},
     "output_type": "execute_result"
    }
   ],
   "source": [
    "from pde import CartesianGrid, DiffusionPDE, ScalarField, solve_laplace_equation\n",
    "\n",
    "def bc_value(adjacent_value, dx, x, y, t):\n",
    "    return 4*np.sin(4.*y)\n",
    "\n",
    "grid = pde.CartesianGrid([[0, 2], [0, 1]], [40, 20], periodic=[False, False]) # generate grid\n",
    "state = ScalarField.random_uniform(grid, 0.0, 0.2) # generate initial condition\n",
    "\n",
    "bc_x_left = {\"derivative\": 0.}\n",
    "#bc_x_right = {\"value_expression\": trial.control}\n",
    "bc_x_right = {\"value_expression\": bc_value}\n",
    "bc_x = [bc_x_left, bc_x_right]\n",
    "bc_y=[{\"derivative\": 0.},{\"derivative\": 0.}]\n",
    "bc=[{\"value\":\"sin(4*y+4*x)\"}, {\"value\":\"sin(4*y+4*x)\"}]\n",
    "\n",
    "eq = DiffusionPDE(100, bc=bc)  # define the pde\n",
    "result = eq.solve(state, t_range=1, adaptive=True)\n",
    "#grid = pde.CartesianGrid([[0, 2], [0, 1]], [40, 20], periodic=[False, False])\n",
    "#result=solve_laplace_equation(grid, bc)\n",
    "result.plot(cmap=\"magma\")"
   ]
  },
  {
   "cell_type": "code",
   "execution_count": 25,
   "id": "83506d42-1b0f-4a07-b5df-669cf5073d95",
   "metadata": {},
   "outputs": [
    {
     "name": "stdout",
     "output_type": "stream",
     "text": [
      "['__abstractmethods__', '__annotations__', '__class__', '__copy__', '__deepcopy__', '__delattr__', '__dict__', '__dir__', '__doc__', '__eq__', '__format__', '__ge__', '__getattribute__', '__getstate__', '__gt__', '__hash__', '__init__', '__init_subclass__', '__le__', '__lt__', '__module__', '__ne__', '__new__', '__reduce__', '__reduce_ex__', '__repr__', '__setattr__', '__setstate__', '__sizeof__', '__str__', '__subclasshook__', '__weakref__', '_abc_impl', '_axes_bounds', '_axes_coords', '_axes_described', '_axes_symmetric', '_boundary_coordinates', '_cache_hash', '_cache_methods', '_coords_full', '_coords_symmetric', '_difference_vector', '_discretization', '_get_boundary_index', '_get_operator_info', '_idx_valid', '_iter_boundaries', '_logger', '_make_get_valid', '_make_interpolation_axis_data', '_make_interpolator_compiled', '_make_set_valid', '_mesh', '_operators', '_periodic', '_shape', '_shape_full', '_subclasses', '_vector_to_cartesian', 'assert_grid_compatible', 'axes', 'axes_bounds', 'axes_coords', 'axes_symmetric', 'boundary_names', 'c', 'cell_coords', 'cell_volume_data', 'cell_volumes', 'compatible_with', 'contains_point', 'coordinate_arrays', 'coordinate_constraints', 'copy', 'cuboid', 'difference_vector', 'difference_vector_real', 'dim', 'discretization', 'distance', 'distance_real', 'from_bounds', 'from_state', 'get_axis_index', 'get_boundary_conditions', 'get_image_data', 'get_line_data', 'get_random_point', 'get_vector_data', 'integrate', 'iter_mirror_points', 'make_cell_volume_compiled', 'make_inserter_compiled', 'make_integrator', 'make_normalize_point_compiled', 'make_operator', 'make_operator_no_bc', 'normalize_point', 'num_axes', 'num_cells', 'numba_type', 'operators', 'periodic', 'plot', 'point_from_cartesian', 'point_to_cartesian', 'register_operator', 'shape', 'slice', 'state', 'state_serialized', 'transform', 'typical_discretization', 'uniform_cell_volumes', 'volume']\n",
      "['x', 'y']\n",
      "0.0\n",
      "2.0\n",
      "0.0\n",
      "1.0\n",
      "[0.025 0.075 0.125 0.175 0.225 0.275 0.325 0.375 0.425 0.475 0.525 0.575\n",
      " 0.625 0.675 0.725 0.775 0.825 0.875 0.925 0.975]\n",
      "(40, 20)\n"
     ]
    }
   ],
   "source": [
    "print(dir(grid))\n",
    "print(grid.axes)\n",
    "print((grid.axes_bounds[0][0].item()))\n",
    "print((grid.axes_bounds[0][1].item()))\n",
    "print((grid.axes_bounds[1][0].item()))\n",
    "print((grid.axes_bounds[1][1].item()))\n",
    "print(grid.axes_coords[1])\n",
    "print(grid.shape)"
   ]
  },
  {
   "cell_type": "code",
   "execution_count": 89,
   "id": "75e627f8-a21f-4f95-8a99-1fbf79237e20",
   "metadata": {},
   "outputs": [
    {
     "data": {
      "application/vnd.jupyter.widget-view+json": {
       "model_id": "95db46a71ba1440a930634bcf51677e1",
       "version_major": 2,
       "version_minor": 0
      },
      "text/plain": [
       "  0%|          | 0/10.0 [00:00<?, ?it/s]"
      ]
     },
     "metadata": {},
     "output_type": "display_data"
    },
    {
     "data": {
      "image/png": "[encoded data removed]",
      "text/plain": [
       "<Figure size 640x480 with 2 Axes>"
      ]
     },
     "metadata": {},
     "output_type": "display_data"
    },
    {
     "data": {
      "text/plain": [
       "<pde.tools.plotting.PlotReference at 0x139112e3880>"
      ]
     },
     "execution_count": 89,
     "metadata": {},
     "output_type": "execute_result"
    }
   ],
   "source": [
    "from pde import CartesianGrid, DiffusionPDE, ScalarField\n",
    "\n",
    "def bc_value(adjacent_value, dx, x, y, t):\n",
    "    return 3*np.sin(4.*y)\n",
    "\n",
    "grid = pde.CartesianGrid([[0, 1], [0, 0.5]], [20, 10], periodic=[False, True]) # generate grid\n",
    "state = ScalarField.random_uniform(grid, 0.0, 0.2) # generate initial condition\n",
    "\n",
    "bc_x_left = {\"derivative\": 0}\n",
    "#bc_x_right = {\"value_expression\": trial.control}\n",
    "bc_x_right = {\"value_expression\": bc_value}\n",
    "bc_x = [bc_x_left, bc_x_right]\n",
    "bc_y=\"periodic\"\n",
    "\n",
    "eq = DiffusionPDE(100, bc=[bc_x, bc_y])  # define the pde\n",
    "result = eq.solve(state, t_range=10, adaptive=True)\n",
    "result.plot(cmap=\"magma\")"
   ]
  },
  {
   "cell_type": "code",
   "execution_count": null,
   "id": "6def9bcb-4ffb-405d-a516-81175541425f",
   "metadata": {
    "scrolled": true
   },
   "outputs": [],
   "source": [
    "import pde\n",
    "import numpy as np\n",
    "import gc\n",
    "import tracemalloc \n",
    "#required conda install -c conda-forge mpi4py      \n",
    "#required conda install -c conda-forge py-pde\n",
    "\n",
    "from pde import DiffusionPDE, ScalarField, UnitGrid, CartesianGrid\n",
    "grid = UnitGrid([64, 64], periodic=[False, True]) # generate grid\n",
    "#grid = CartesianGrid([[0, 2 * np.pi]] * 2, 64)\n",
    "state = ScalarField.random_uniform(grid, 0.2, 0.3) # generate initial condition\n",
    "#grid=trial.grid\n",
    "\n",
    "# set boundary conditions `bc` for all axes\n",
    "bc_x_left = {\"derivative\": 0.1}\n",
    "#bc_x_right = {\"value_expression\": trial.control}\n",
    "bc_x_right = {\"value\": 0}\n",
    "bc_x = [bc_x_left, bc_x_right]\n",
    "\n",
    "bc_y = \"periodic\"\n",
    "bcs = [{\"value\": \"sin(y)\"}, {\"value\": \"sin(x)\"}]\n",
    "eq = DiffusionPDE(bc=[bc_x, bc_y])\n",
    "tracemalloc.start() \n",
    "\n",
    "for i in range(90):\n",
    "    gc.collect()\n",
    "    time1=time.time()\n",
    "    result=state\n",
    "    \n",
    "    for j in range(50):\n",
    "        result = eq.solve(result, t_range=0.2, tracker=None, adaptive=True)\n",
    "    # if i % 20== 0:\n",
    "    #     snapshot=tracemalloc.take_snapshot()\n",
    "    #     for stat in snapshot.statistics(\"lineno\"):\n",
    "    #         print(stat)\n",
    "    print(i, time.time()-time1)\n"
   ]
  },
  {
   "cell_type": "code",
   "execution_count": 9,
   "id": "eea55bff-10d5-4544-a880-6d8511456807",
   "metadata": {},
   "outputs": [
    {
     "data": {
      "text/plain": [
       "8411"
      ]
     },
     "execution_count": 9,
     "metadata": {},
     "output_type": "execute_result"
    }
   ],
   "source": [
    "grid=None\n",
    "eq=None\n",
    "result=None\n",
    "state=None\n",
    "gc.collect()"
   ]
  },
  {
   "cell_type": "code",
   "execution_count": 18,
   "id": "7a6bf535-d3de-47f2-8bf5-07a143bb71c9",
   "metadata": {},
   "outputs": [
    {
     "ename": "NameError",
     "evalue": "name 'trial' is not defined",
     "output_type": "error",
     "traceback": [
      "\u001b[1;31m---------------------------------------------------------------------------\u001b[0m",
      "\u001b[1;31mNameError\u001b[0m                                 Traceback (most recent call last)",
      "Cell \u001b[1;32mIn[18], line 5\u001b[0m\n\u001b[0;32m      3\u001b[0m dt\u001b[38;5;241m=\u001b[39m\u001b[38;5;241m0.2\u001b[39m\n\u001b[0;32m      4\u001b[0m trap \u001b[38;5;241m=\u001b[39m io\u001b[38;5;241m.\u001b[39mStringIO()\n\u001b[1;32m----> 5\u001b[0m result \u001b[38;5;241m=\u001b[39m eq\u001b[38;5;241m.\u001b[39msolve(trial\u001b[38;5;241m.\u001b[39mstate, t_range\u001b[38;5;241m=\u001b[39mdt, tracker\u001b[38;5;241m=\u001b[39m\u001b[38;5;28;01mNone\u001b[39;00m, adaptive\u001b[38;5;241m=\u001b[39m\u001b[38;5;28;01mTrue\u001b[39;00m)\n\u001b[0;32m      6\u001b[0m result \u001b[38;5;241m=\u001b[39m eq\u001b[38;5;241m.\u001b[39msolve(result, t_range\u001b[38;5;241m=\u001b[39mdt,  tracker\u001b[38;5;241m=\u001b[39m\u001b[38;5;28;01mNone\u001b[39;00m,adaptive\u001b[38;5;241m=\u001b[39m\u001b[38;5;28;01mTrue\u001b[39;00m)\n\u001b[0;32m      7\u001b[0m result \u001b[38;5;241m=\u001b[39m eq\u001b[38;5;241m.\u001b[39msolve(result, t_range\u001b[38;5;241m=\u001b[39mdt, tracker\u001b[38;5;241m=\u001b[39m\u001b[38;5;28;01mNone\u001b[39;00m,adaptive\u001b[38;5;241m=\u001b[39m\u001b[38;5;28;01mTrue\u001b[39;00m)\n",
      "\u001b[1;31mNameError\u001b[0m: name 'trial' is not defined"
     ]
    }
   ],
   "source": [
    "import io\n",
    "from contextlib import redirect_stdout\n",
    "dt=0.2\n",
    "trap = io.StringIO()\n",
    "result = eq.solve(trial.state, t_range=dt, tracker=None, adaptive=True)\n",
    "result = eq.solve(result, t_range=dt,  tracker=None,adaptive=True)\n",
    "result = eq.solve(result, t_range=dt, tracker=None,adaptive=True)\n",
    "result = eq.solve(result, t_range=dt,  tracker=None,adaptive=True)\n",
    "\n",
    "result.plot()"
   ]
  },
  {
   "cell_type": "code",
   "execution_count": 322,
   "id": "b4752309-6b60-4935-b566-ed95e2966059",
   "metadata": {
    "scrolled": true
   },
   "outputs": [
    {
     "name": "stdout",
     "output_type": "stream",
     "text": [
      "<class 'numpy.ndarray'> (64, 64)\n",
      "0.4624700152279102 0.03220655336270971 0.4621691604322135 0.03208888084104183\n",
      "0.2742285721504054 0.21462711048280567 0.2562883433258105\n"
     ]
    }
   ],
   "source": [
    "print(type(state.data), result.data.shape)\n",
    "print(result.data[0,0], result.data[63,0], result.data[0,63], result.data[63,63])\n",
    "print(state.data[0,0], state.data[63,0], state.data[0,63])"
   ]
  },
  {
   "cell_type": "code",
   "execution_count": 357,
   "id": "201dd113-defd-48aa-8403-11e35bf955d0",
   "metadata": {},
   "outputs": [],
   "source": [
    "def sensor_meas(sensors,domain):\n",
    "    #assume senors form a square grid, so take square root of number of sensors\n",
    "    #assume sensors read from middle of domain\n",
    "    n_sense=int(np.sqrt(sensors))\n",
    "    meas=np.empty((n_sense,n_sense))\n",
    "    dimx=domain.shape[0]\n",
    "    dimy=domain.shape[1]\n",
    "    startx=round((dimx-n_sense)/2)\n",
    "    starty=round((dimy-n_sense)/2)\n",
    "    for i in range(n_sense):\n",
    "        for j in range(n_sense):\n",
    "            meas[i,j]=domain[i+startx,j+starty]\n",
    "    return meas"
   ]
  },
  {
   "cell_type": "code",
   "execution_count": 6,
   "id": "c4a92551-93f5-4e9f-b6e9-b0487f453fff",
   "metadata": {},
   "outputs": [
    {
     "name": "stdout",
     "output_type": "stream",
     "text": [
      "[[1. 2.]\n",
      " [3. 4.]\n",
      " [5. 6.]]\n",
      "(2,)\n"
     ]
    }
   ],
   "source": [
    "a=np.array([1,2])\n",
    "b=np.array([3,4])\n",
    "c=np.array([5,6])\n",
    "d=np.array([a,b,c])\n",
    "print(np.unwrap(d))\n",
    "print(a.shape)"
   ]
  },
  {
   "cell_type": "code",
   "execution_count": 15,
   "id": "51a9be65-e1ef-41e7-8ed1-a3401420473c",
   "metadata": {},
   "outputs": [
    {
     "name": "stdout",
     "output_type": "stream",
     "text": [
      "1 <class 'int'>\n",
      "2 <class 'int'>\n",
      "1 <class 'int'>\n",
      "2 <class 'int'>\n",
      "3 <class 'int'>\n",
      "4 <class 'int'>\n"
     ]
    }
   ],
   "source": [
    "a=np.array([1,2])\n",
    "a=np.vstack([a, [1,2]])\n",
    "a=np.vstack([a, [3,4]])\n",
    "#a[2:4]=20\n",
    "#print(a)\n",
    "#print(a[:,1])\n",
    "for j in a:\n",
    "    for i in j:\n",
    "        print(i.item(), type(i.item()))"
   ]
  },
  {
   "cell_type": "code",
   "execution_count": 11,
   "id": "cf0c4e19-f3b8-4376-92a2-2deb1348445b",
   "metadata": {},
   "outputs": [
    {
     "name": "stdout",
     "output_type": "stream",
     "text": [
      "[1 2 3 4 5 6 7 8 9]\n",
      "[[0.1 0.2 0.3]\n",
      " [0.4 0.5 0.6]\n",
      " [0.7 0.8 0.9]]\n",
      "[[99 98 97]\n",
      " [ 4  5  6]\n",
      " [ 7  8  9]]\n"
     ]
    }
   ],
   "source": [
    "import math\n",
    "a=np.array([[1,2,3],[4,5,6],[7,8,9]])\n",
    "b=np.array([[3,4,5],[0,1,2]])\n",
    "print(a.flatten())\n",
    "print(a/10)\n",
    "aa=np.array([99,98,97])\n",
    "a[0,:]=aa\n",
    "print(a)"
   ]
  },
  {
   "cell_type": "code",
   "execution_count": 29,
   "id": "d167c5e8-a234-44ee-82db-9981720d94d9",
   "metadata": {
    "scrolled": true
   },
   "outputs": [
    {
     "name": "stdout",
     "output_type": "stream",
     "text": [
      "<class 'numpy.float64'>\n",
      "<class 'numpy.float64'>\n",
      "<class 'numpy.float64'>\n",
      "<class 'numpy.float64'>\n",
      "<class 'numpy.float64'>\n",
      "<class 'numpy.float64'>\n"
     ]
    }
   ],
   "source": [
    "aa=0.5*np.array(range(6))\n",
    "for ab in aa:\n",
    "    print(type(ab))"
   ]
  },
  {
   "cell_type": "code",
   "execution_count": 1,
   "id": "82dcb5de-95bb-4e2e-a63a-fa0da1cd4a0e",
   "metadata": {
    "jupyter": {
     "source_hidden": true
    }
   },
   "outputs": [],
   "source": [
    "#to make gymanasium work with py-pde, need to pass in action step:\n",
    "#1.  control function to calculate control with all values constant except x,y\n",
    "#2.  grid\n",
    "#controller servers to pass these values to gymnasium.\n",
    "#control will be nxm vector, where n is num_controls and m is number of cells per boundary\n",
    "#if non-square boundary, m will be larger side and in gymnasium will need to hard code truncation of extra cells\n",
    "\n",
    "class controller:\n",
    "    def __init__(self, grid, state, num_sens):\n",
    "        self.grid=grid\n",
    "        self.num_sens=num_sens\n",
    "        self.state=state\n",
    "        self.control=[]\n",
    "\n",
    "#need function to reduce full space to just sensors \n",
    "def sensor_meas(sensors,domain):\n",
    "    #assume senors form a square grid, so take square root of number of sensors\n",
    "    #assume sensors read from middle of domain\n",
    "    n_sense=int(np.sqrt(sensors))\n",
    "    meas=np.empty((n_sense,n_sense))\n",
    "    dimx=domain.shape[0]\n",
    "    dimy=domain.shape[1]\n",
    "    startx=round((dimx-n_sense)/2)\n",
    "    starty=round((dimy-n_sense)/2)\n",
    "    for i in range(n_sense):\n",
    "        for j in range(n_sense):\n",
    "            meas[i,j]=float(domain[i+startx,j+starty])\n",
    "    return meas.flatten()"
   ]
  },
  {
   "cell_type": "code",
   "execution_count": 3,
   "id": "6a9c9d8d-ca5f-4114-9670-1378f3c629cc",
   "metadata": {
    "jupyter": {
     "source_hidden": true
    },
    "scrolled": true
   },
   "outputs": [
    {
     "name": "stderr",
     "output_type": "stream",
     "text": [
      "C:\\Users\\Robert\\anaconda3\\Lib\\site-packages\\gymnasium\\utils\\passive_env_checker.py:192: UserWarning: \u001b[33mWARN: The result returned by `env.reset()` should be `(obs, info)` by default, , where `obs` is a observation and `info` is a dictionary containing additional information.\u001b[0m\n",
      "  logger.warn(\n"
     ]
    },
    {
     "name": "stdout",
     "output_type": "stream",
     "text": [
      "[0.34614831 0.15252601 0.03738586 0.11852327 0.13153218 0.45446318\n",
      " 0.05055848 0.36226597 0.24188289 0.02252269 0.42704646 0.21367884\n",
      " 0.10152803 0.12664413 0.19659309 0.05700284] 16 ['math.sin', 's16']\n"
     ]
    },
    {
     "name": "stderr",
     "output_type": "stream",
     "text": [
      "C:\\Users\\Robert\\anaconda3\\Lib\\site-packages\\gymnasium\\utils\\passive_env_checker.py:158: UserWarning: \u001b[33mWARN: The obs returned by the `step()` method is not within the observation space.\u001b[0m\n",
      "  logger.warn(f\"{pre} is not within the observation space.\")\n"
     ]
    },
    {
     "name": "stdout",
     "output_type": "stream",
     "text": [
      "4.460944277474263 0.49307868575392305 0\n",
      "8.921888072461085 0.49307868575392305 1\n",
      "13.382832336244327 0.49307868575392305 2\n",
      "17.843776610225078 0.49307868575392305 3\n",
      "22.304716072160367 0.49307868575392305 4\n",
      "26.76565578320812 0.49307868575392305 5\n",
      "31.22659743470673 0.49307868575392305 6\n",
      "35.687537057986574 0.49307868575392305 7\n",
      "40.148481341287415 0.49307868575392305 8\n",
      "44.60942536258353 0.49307868575392305 9\n",
      "49.07036706456981 0.49307868575392305 10\n",
      "53.531309221356004 0.49307868575392305 11\n",
      "57.992253377266756 0.49307868575392305 12\n",
      "62.4531968000478 0.49307868575392305 13\n",
      "66.91413734957794 0.49307868575392305 14\n",
      "71.3750816333268 0.49307868575392305 15\n",
      "75.83601858203795 0.49307868575392305 16\n",
      "80.29696287077222 0.49307868575392305 17\n",
      "84.75790689581179 0.49307868575392305 18\n",
      "89.2188511194702 0.49307868575392305 19\n",
      "93.67979540523544 0.49307868575392305 20\n",
      "98.14073969454812 0.49307868575392305 21\n",
      "102.60167661285722 0.49307868575392305 22\n",
      "107.06261706179035 0.49307868575392305 23\n",
      "111.52354199714206 0.49307868575392305 24\n",
      "115.98448628524433 0.49307868575392305 25\n",
      "120.44542760262195 0.49307868575392305 26\n",
      "124.90637189220587 0.49307868575392305 27\n",
      "129.3673161818527 0.49307868575392305 28\n",
      "133.82826046334023 0.49307868575392305 29\n",
      "138.28920412609153 0.49307868575392305 30\n",
      "142.75014830659063 0.49307868575392305 31\n",
      "147.21109003614794 0.49307868575392305 32\n",
      "151.6720275050767 0.49307868575392305 33\n",
      "156.13297179331576 0.49307868575392305 34\n",
      "160.59391605093802 0.49307868575392305 35\n",
      "165.05485812070734 0.49307868575392305 36\n",
      "169.51580163856485 0.49307868575392305 37\n",
      "173.97674098324538 0.49307868575392305 38\n",
      "178.43768526236462 0.49307868575392305 39\n",
      "182.89862504453345 0.49307868575392305 40\n",
      "187.35956231422517 0.49307868575392305 41\n",
      "191.82050643304228 0.49307868575392305 42\n",
      "196.28145072269697 0.49307868575392305 43\n",
      "200.74239501122605 0.49307868575392305 44\n",
      "205.2033293399778 0.49307868575392305 45\n",
      "209.66427287895058 0.49307868575392305 46\n",
      "214.12521770532206 0.49307868575392305 47\n",
      "218.58615870701405 0.49307868575392305 48\n",
      "223.0471029952852 0.49307868575392305 49\n",
      "227.5080472725511 0.49307868575392305 50\n",
      "231.96899122589778 0.49307868575392305 51\n",
      "236.4299318615691 0.49307868575392305 52\n",
      "240.89087614151586 0.49307868575392305 53\n",
      "245.35182006055828 0.49307868575392305 54\n",
      "249.8127643479775 0.49307868575392305 55\n",
      "254.27370863696248 0.49307868575392305 56\n",
      "258.73465087267033 0.49307868575392305 57\n",
      "263.19559514523576 0.49307868575392305 58\n",
      "267.65653943488945 0.49307868575392305 59\n",
      "272.1174837168432 0.49307868575392305 60\n",
      "276.5784279856175 0.49307868575392305 61\n",
      "281.0393722559998 0.49307868575392305 62\n",
      "285.5003165383168 0.49307868575392305 63\n",
      "289.96126080169876 0.49307868575392305 64\n",
      "294.4222050899571 0.49307868575392305 65\n",
      "298.8831493779953 0.49307868575392305 66\n",
      "303.34409019978574 0.49307868575392305 67\n",
      "307.80503447618605 0.49307868575392305 68\n",
      "312.26597875486436 0.49307868575392305 69\n",
      "316.72691195229703 0.49307868575392305 70\n",
      "321.18785624170636 0.49307868575392305 71\n",
      "325.6487977841257 0.49307868575392305 72\n",
      "330.10974195261787 0.49307868575392305 73\n",
      "334.5706842704944 0.49307868575392305 74\n",
      "339.03162753946907 0.49307868575392305 75\n",
      "343.4925706922974 0.49307868575392305 76\n",
      "347.9535124916575 0.49307868575392305 77\n",
      "352.41445677925896 0.49307868575392305 78\n",
      "356.87540096798404 0.49307868575392305 79\n",
      "361.33634477692357 0.49307868575392305 80\n",
      "365.7972883526753 0.49307868575392305 81\n",
      "370.25823260469883 0.49307868575392305 82\n",
      "374.71917689495746 0.49307868575392305 83\n",
      "379.1801211841208 0.49307868575392305 84\n",
      "383.6410654625925 0.49307868575392305 85\n",
      "388.1020058074407 0.49307868575392305 86\n",
      "392.5629500078216 0.49307868575392305 87\n",
      "397.0238912492072 0.49307868575392305 88\n",
      "401.484835234092 0.49307868575392305 89\n",
      "405.9457784998873 0.49307868575392305 90\n",
      "410.40672109605816 0.49307868575392305 91\n",
      "414.8676653854206 0.49307868575392305 92\n",
      "419.32860733367625 0.49307868575392305 93\n",
      "423.789551612258 0.49307868575392305 94\n",
      "428.2504958576393 0.49307868575392305 95\n",
      "432.7114399952738 0.49307868575392305 96\n",
      "437.1723838454775 0.49307868575392305 97\n",
      "441.63332681380143 0.49307868575392305 98\n",
      "446.0942687402932 0.49307868575392305 99\n",
      "[0.45499176 0.45981463 0.46444294 0.46880654 0.45981463 0.46429147\n",
      " 0.46881049 0.47313586 0.46444294 0.46881049 0.47328733 0.47780635\n",
      " 0.46880654 0.47313586 0.47780635 0.48257915]\n"
     ]
    },
    {
     "data": {
      "image/png": "[encoded data removed]",
      "text/plain": [
       "<Figure size 640x480 with 2 Axes>"
      ]
     },
     "metadata": {},
     "output_type": "display_data"
    },
    {
     "data": {
      "text/plain": [
       "<pde.tools.plotting.PlotReference at 0x19d9b328280>"
      ]
     },
     "execution_count": 3,
     "metadata": {},
     "output_type": "execute_result"
    }
   ],
   "source": [
    "#import cv2\n",
    "import matplotlib.pyplot as plt\n",
    "import numpy as np\n",
    "from scipy.integrate import solve_ivp\n",
    "import gymnasium\n",
    "import copy\n",
    "import pde\n",
    "import MLC.MLC as gp\n",
    "\n",
    "env = gymnasium.make(\"Diffusion-v0\")\n",
    "observation, grid, state = env.reset(seed=24)\n",
    "Num_sens=4*4 #size of observation/sensor space in number of grid points\n",
    "grid_dim=2 #x,y for including cotnrol location in alogrithim\n",
    "Ns=grid_dim+Num_sens #sensors are first in s array, then \n",
    "\n",
    "s=sensor_meas(Num_sens,state.data)\n",
    "\n",
    "left_bound=grid.axes_coords[1]\n",
    "left_bound=np.vstack((left_bound, np.full(len(left_bound), grid.axes_bounds[0][0].item())))\n",
    "right_bound=grid.axes_coords[1]\n",
    "right_bound=np.vstack((right_bound, np.full(len(right_bound), grid.axes_bounds[0][1].item())))\n",
    "bottom_bound=grid.axes_coords[0]\n",
    "bottom_bound=np.vstack((bottom_bound, np.full(len(bottom_bound), grid.axes_bounds[1][0].item())))\n",
    "top_bound=grid.axes_coords[0]\n",
    "top_bound=np.vstack((top_bound, np.full(len(top_bound), grid.axes_bounds[1][1].item())))\n",
    "\n",
    "#initialize arrays to hold control inputs along each boundary\n",
    "left_control=np.zeros(grid.shape[1])\n",
    "right_control=np.zeros(grid.shape[1])\n",
    "bottom_control=np.zeros(grid.shape[0])\n",
    "top_control=np.zeros(grid.shape[0])\n",
    "\n",
    "implement=controller(grid, state, Num_sens)\n",
    "\n",
    "bestTree=['math.sin', 's16']\n",
    "control_name=bestTree\n",
    "print(s, len(s), control_name)\n",
    "\n",
    "#s=np.array([-0.1,-0.1])\n",
    "#x=s[0]\n",
    "#y=s[1]\n",
    "\n",
    "#plt.figure(1)\n",
    "#plt.scatter(x,y)#,'ro')\n",
    "subtotal=0\n",
    "for i in range(100):\n",
    "    for j in range(Num_sens):\n",
    "        obs_name='s'+str(j)\n",
    "        control_name=[s[j].item() if c==obs_name else c for c in control_name]\n",
    "        \n",
    "    #assign values to boundary controls.  \n",
    "    #this implementation ASSUMES square grid.  \n",
    "    #if rectangular need to break into iterating over left/right and top/bottom\n",
    "    for j in range(grid.shape[0]):\n",
    "        #left bound\n",
    "        holder_left=copy.copy(control_name)\n",
    "        holder_right=copy.copy(control_name)\n",
    "        holder_top=copy.copy(control_name)\n",
    "        holder_bottom=copy.copy(control_name)\n",
    "        for l in range(Num_sens, Ns):\n",
    "            obs_name='s'+str(l)\n",
    "            holder_left=[left_bound[l-Num_sens,j].item() if c==obs_name else c for c in holder_left]\n",
    "            holder_right=[right_bound[l-Num_sens,j].item() if c==obs_name else c for c in holder_right]\n",
    "            holder_bottom=[bottom_bound[l-Num_sens,j].item() if c==obs_name else c for c in holder_bottom]\n",
    "            holder_top=[top_bound[l-Num_sens,j].item() if c==obs_name else c for c in holder_top]\n",
    "        #print(holder_left)\n",
    "        k,dummy=gp.evaluate(holder_left)\n",
    "        if k>10:  k=10.0\n",
    "        elif k<-10:  k=-10.0\n",
    "        left_control[j]=k\n",
    "        k,dummy=gp.evaluate(holder_right)\n",
    "        if k>10:  k=10.0\n",
    "        elif k<-10:  k=-10.0\n",
    "        right_control[j]=k\n",
    "        k,dummy=gp.evaluate(holder_bottom)\n",
    "        if k>10:  k=10.0\n",
    "        elif k<-10:  k=-10.0\n",
    "        bottom_control[j]=k\n",
    "        k,dummy=gp.evaluate(holder_top)\n",
    "        if k>10:  k=10.0\n",
    "        elif k<-10:  k=-10.0\n",
    "        top_control[j]=k\n",
    "\n",
    "    #now set up entire array to pass for the boundary\n",
    "    #hard coded that non-control points will be 0, control points will be as appropriate for that control value\n",
    "    #need to keep order of boundaries straight for K, for passing to gymnasium, and in gymnasium\n",
    "    #left, right, bottom, top\n",
    "    all_control=np.vstack([left_control, right_control])\n",
    "    all_control=np.vstack([all_control, bottom_control])\n",
    "    all_control=np.vstack([all_control, top_control])\n",
    "    implement.control=all_control\n",
    "    \n",
    "    obs, reward, terminated, truncated, info = env.step(implement)\n",
    "    implement.state.data=obs\n",
    "    s=sensor_meas(Num_sens,state.data)\n",
    "    subtotal+=1.*reward\n",
    "    print(subtotal, all_control[2,16], i)\n",
    "#    x=s[0]\n",
    "#    y=s[1]\n",
    "#    if i % 20 ==0:  \n",
    "#        print(x,y,subtotal, s)\n",
    "#        plt.scatter(x, y)\n",
    "    if (terminated or truncated):  break\n",
    "env.close()\n",
    "print(s)\n",
    "implement.state.plot()"
   ]
  },
  {
   "cell_type": "code",
   "execution_count": 2,
   "id": "fd2258b9-415e-4028-a1cb-00c957be71c0",
   "metadata": {},
   "outputs": [
    {
     "data": {
      "application/vnd.jupyter.widget-view+json": {
       "model_id": "421f8c71d8af4514acf89686a913084a",
       "version_major": 2,
       "version_minor": 0
      },
      "text/plain": [
       "  0%|          | 0/10.0 [00:00<?, ?it/s]"
      ]
     },
     "metadata": {},
     "output_type": "display_data"
    },
    {
     "data": {
      "image/png": "[encoded data removed]",
      "text/plain": [
       "<Figure size 640x480 with 2 Axes>"
      ]
     },
     "metadata": {},
     "output_type": "display_data"
    },
    {
     "data": {
      "text/plain": [
       "<pde.tools.plotting.PlotReference at 0x272238cd480>"
      ]
     },
     "execution_count": 2,
     "metadata": {},
     "output_type": "execute_result"
    }
   ],
   "source": [
    "#test out K-S equation\n",
    "from pde import PDE, ScalarField, UnitGrid\n",
    "\n",
    "grid = pde.CartesianGrid([[0, 4], [0, 4]], [20, 20], periodic=[False, False])\n",
    "#grid = UnitGrid([32, 32])  # generate grid\n",
    "state = ScalarField.random_uniform(grid)  # generate initial condition\n",
    "\n",
    "bc_x_left = {\"derivative\": 0}\n",
    "#bc_x_right = {\"value_expression\": trial.control}\n",
    "bc_x_right = {\"derivative\": 0}\n",
    "bc_x = [bc_x_left, bc_x_right]\n",
    "bc_y_bottom = {\"derivative\": 0}\n",
    "#bc_x_right = {\"value_expression\": trial.control}\n",
    "bc_y_top = {\"value\": 0}\n",
    "bc_y = [bc_y_bottom, bc_y_top]\n",
    "\n",
    "eq = PDE({\"u\": \"-gradient_squared(u) / 2 - laplace(u + laplace(u))\"}, bc=[bc_x,bc_y])  # define the pde\n",
    "result = eq.solve(state, t_range=10, adaptive=True)\n",
    "result.plot()  "
   ]
  },
  {
   "cell_type": "code",
   "execution_count": null,
   "id": "94c3844e-da6f-457f-af3f-c590b2e1dc28",
   "metadata": {},
   "outputs": [],
   "source": []
  }
 ],
 "metadata": {
  "kernelspec": {
   "display_name": "Python 3 (ipykernel)",
   "language": "python",
   "name": "python3"
  },
  "language_info": {
   "codemirror_mode": {
    "name": "ipython",
    "version": 3
   },
   "file_extension": ".py",
   "mimetype": "text/x-python",
   "name": "python",
   "nbconvert_exporter": "python",
   "pygments_lexer": "ipython3",
   "version": "3.11.7"
  }
 },
 "nbformat": 4,
 "nbformat_minor": 5
}
